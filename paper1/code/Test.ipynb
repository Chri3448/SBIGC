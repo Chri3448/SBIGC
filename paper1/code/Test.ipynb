{
 "cells": [
  {
   "cell_type": "code",
   "execution_count": 2,
   "metadata": {},
   "outputs": [
    {
     "name": "stdout",
     "output_type": "stream",
     "text": [
      "1.632240801e+17\n"
     ]
    },
    {
     "data": {
      "text/plain": [
       "'\\nprint(bPDF1-bPDF)\\nprint(cPDF1-cPDF)\\nprint(dPDF1-dPDF)\\nprint(ePDF1-ePDF)\\n'"
      ]
     },
     "execution_count": 2,
     "metadata": {},
     "output_type": "execute_result"
    }
   ],
   "source": [
    "import numpy as np\n",
    "n=200\n",
    "a = np.linspace(1, n, n)\n",
    "'''\n",
    "b = np.tile(a,(n,n,n,1)).T\n",
    "c = np.tile(np.tile(a,(n,1)).T,(n,n,1,1)).T\n",
    "d = np.tile(np.tile(a,(n,1)).T,(n,n,1,1))\n",
    "e = np.tile(a,(n,n,n,1))\n",
    "print(b[1,0,0,0])\n",
    "print(c[1,1,0,0])\n",
    "print(d[1,1,1,0])\n",
    "print(e[1,1,1,1])\n",
    "integrand = b*c*d*e\n",
    "print(np.sum(integrand))\n",
    "bPDF1 = np.sum(integrand, axis = (1,2,3))\n",
    "cPDF1 = np.sum(integrand, axis = (0,2,3))\n",
    "dPDF1 = np.sum(integrand, axis = (0,1,3))\n",
    "ePDF1 = np.sum(integrand, axis = (0,1,2))\n",
    "'''\n",
    "\n",
    "\n",
    "block = int(n/10)\n",
    "bPDF = np.zeros(n)\n",
    "cPDF = np.zeros(n)\n",
    "dPDF = np.zeros(n)\n",
    "ePDF = np.zeros(n)\n",
    "for i in np.linspace(0, n-block, int(n/block)).astype(int):\n",
    "    for j in np.linspace(0, n-block, int(n/block)).astype(int):\n",
    "        for k in np.linspace(0, n-block, int(n/block)).astype(int):\n",
    "            b = np.tile(a,(block,block,block,1)).T\n",
    "            c = np.tile(np.tile(a[i:i+block],(n,1)).T,(block,block,1,1)).T\n",
    "            d = np.tile(np.tile(a[j:j+block],(block,1)).T,(n,block,1,1))\n",
    "            e = np.tile(a[k:k+block],(n,block,block,1))\n",
    "            #print(np.shape(b),np.shape(c),np.shape(d),np.shape(e))\n",
    "            integrand = b*c*d*e\n",
    "            bPDF += np.sum(integrand, axis = (1,2,3))\n",
    "            cPDF[i:i+block] += np.sum(integrand, axis = (0,2,3))\n",
    "            dPDF[j:j+block] += np.sum(integrand, axis = (0,1,3))\n",
    "            ePDF[k:k+block] += np.sum(integrand, axis = (0,1,2))\n",
    "print(np.sum(bPDF))\n",
    "'''\n",
    "print(bPDF1-bPDF)\n",
    "print(cPDF1-cPDF)\n",
    "print(dPDF1-dPDF)\n",
    "print(ePDF1-ePDF)\n",
    "'''"
   ]
  },
  {
   "cell_type": "code",
   "execution_count": null,
   "metadata": {},
   "outputs": [],
   "source": []
  },
  {
   "cell_type": "code",
   "execution_count": null,
   "metadata": {},
   "outputs": [],
   "source": []
  }
 ],
 "metadata": {
  "kernelspec": {
   "display_name": "env_healpy",
   "language": "python",
   "name": "env_healpy"
  },
  "language_info": {
   "codemirror_mode": {
    "name": "ipython",
    "version": 3
   },
   "file_extension": ".py",
   "mimetype": "text/x-python",
   "name": "python",
   "nbconvert_exporter": "python",
   "pygments_lexer": "ipython3",
   "version": "3.7.10"
  }
 },
 "nbformat": 4,
 "nbformat_minor": 4
}
