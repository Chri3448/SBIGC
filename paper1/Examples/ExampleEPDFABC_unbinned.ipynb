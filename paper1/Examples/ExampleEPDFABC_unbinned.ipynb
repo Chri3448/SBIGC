{
 "cells": [
  {
   "cell_type": "code",
   "execution_count": 1,
   "metadata": {
    "scrolled": true
   },
   "outputs": [
    {
     "name": "stdout",
     "output_type": "stream",
     "text": [
      "Once deleted, variables cannot be recovered. Proceed (y/[n])? y\n"
     ]
    },
    {
     "name": "stderr",
     "output_type": "stream",
     "text": [
      "<ipython-input-1-26b4495544e5>:24: MatplotlibDeprecationWarning: \n",
      "The text.latex.unicode rcparam was deprecated in Matplotlib 3.0 and will be removed in 3.2.\n",
      "  matplotlib.rcParams['text.latex.unicode'] = True\n"
     ]
    }
   ],
   "source": [
    "%reload_ext autoreload\n",
    "\n",
    "%reset\n",
    "\n",
    "import numpy as np\n",
    "from scipy.stats import poisson\n",
    "from astropy import units\n",
    "\n",
    "import healpy as hp\n",
    "\n",
    "import matplotlib.pyplot as pl\n",
    "import matplotlib\n",
    "\n",
    "#For making corner plots\n",
    "from getdist import plots, MCSamples\n",
    "\n",
    "import pdb\n",
    "\n",
    "import EPDFABC as epdfabc\n",
    "import subhalos as subs\n",
    "\n",
    "\n",
    "matplotlib.rcParams['text.usetex'] = True\n",
    "matplotlib.rcParams['text.latex.unicode'] = True\n",
    "\n",
    "%matplotlib inline"
   ]
  },
  {
   "cell_type": "code",
   "execution_count": 2,
   "metadata": {},
   "outputs": [
    {
     "name": "stdout",
     "output_type": "stream",
     "text": [
      "{'R_G': 220, 'd_sun': 8.5, 'psi': 0.6981317007977318, 'M_max': 10000000000.0, 'nside_map': 2048, 'M_min': 1000.0, 'PhiPP': 1.0, 'n': 0, 'beta': 1.9}\n",
      "{'area': 2000.0, 'obs_time': 10.0, 'fov_factor': 0.2, 'Omega_pixel': 0.0010226538585904274}\n"
     ]
    }
   ],
   "source": [
    "# Settings for subhalo analysis\n",
    "\n",
    "physics_settings, obs_settings, fft_settings = subs.get_settings(fft_type = 'fast')\n",
    "\n",
    "#Set M_min to be larger so we don't have tons of sourcs\n",
    "physics_settings['M_min'] = 1000.0\n",
    "\n",
    "N_side = 32\n",
    "N_pix = 12*N_side**2\n",
    "N_E_bins = 5\n",
    "obs_settings['Omega_pixel'] = 4.*np.pi/N_pix\n",
    "\n",
    "print(physics_settings)\n",
    "print(obs_settings)"
   ]
  },
  {
   "cell_type": "code",
   "execution_count": 3,
   "metadata": {},
   "outputs": [],
   "source": [
    "'''\n",
    "def mass_function1(params, mass, distance):\n",
    "    A = 1.2*10**4 #(solar mass)^-1 kpc^-3\n",
    "    beta = 1.9\n",
    "    return A*mass**-(beta)\n",
    "\n",
    "def luminosity_relation1(params, mass, distance):\n",
    "    #draw from luminosity distribution (gaussian) for each mass to get a luminosity\n",
    "    f_SUSY = 10**-28 #cm^3 s^-1 Gev^-2\n",
    "    mu = 77.4 + 0.87*np.log(mass/10**5) - 0.23*np.log(distance/50) + np.log(f_SUSY*10**28)\n",
    "    sigma = 0.74 - 0.0030*np.log(mass/10**5) - 0.011*np.log(distance/50)\n",
    "    cdf_values = np.random.rand(len(mass))\n",
    "    luminosities = np.exp(mu + sigma*np.sqrt(2)*scipy.special.erfinv(2*cdf_values - 1))\n",
    "    return luminosities\n",
    "'''\n",
    "\n",
    "#set up wrappers \n",
    "def massfunc_wrapper(params, mass, distance):\n",
    "    mass_func = subs.mass_function(physics_settings, mass, gc_distance = distance)\n",
    "    return mass_func\n",
    "\n",
    "def lum_wrapper(params, mass, distance):\n",
    "    this_physics_settings = physics_settings.copy()\n",
    "    this_physics_settings['PhiPP'] = params[0]\n",
    "    mean_lnL, sigma_lnL = subs.get_meansigma_lnL(physics_settings, mass, gc_distance = 8.5)\n",
    "    luminosities = np.exp(np.random.normal(loc = mean_lnL, scale = sigma_lnL, size = len(mass)))\n",
    "    return luminosities\n",
    "    \n",
    "def spec_wrapper(params, energy):\n",
    "    param_dict = {'power_law':params[1]}\n",
    "    return subs.mock_spectrum(param_dict, energy)\n"
   ]
  },
  {
   "cell_type": "code",
   "execution_count": 4,
   "metadata": {},
   "outputs": [
    {
     "data": {
      "image/png": "[encoded data removed]",
      "text/plain": [
       "<Figure size 576x288 with 3 Axes>"
      ]
     },
     "metadata": {
      "needs_background": "light"
     },
     "output_type": "display_data"
    }
   ],
   "source": [
    "abun_lum_spec = [[massfunc_wrapper, lum_wrapper, spec_wrapper]]\n",
    "isotropic = True\n",
    "energy_range = np.array([1., 50.])\n",
    "count_range = np.array([0., 100.])\n",
    "param_names = ['PhiPP', 'alpha']\n",
    "param_labels = ['\\\\Phi_{PP}', '\\\\alpha']\n",
    "param_min = np.array([0.1, -4.])\n",
    "param_max = np.array([1000.0, 0.])\n",
    "param_range = [param_min, param_max]\n",
    "\n",
    "Rmax = 10 #kpc #CHECK THIS\n",
    "fov_factor = obs_settings['fov_factor']\n",
    "obs_time = obs_settings['obs_time']\n",
    "area = obs_settings['area']\n",
    "exposure = fov_factor*(area*obs_time)\n",
    "\n",
    "param_true = np.array([100.0, -2.])\n",
    "\n",
    "mass_range = np.array([physics_settings['M_min'], physics_settings['M_max']])\n",
    "\n",
    "energies = np.exp(np.linspace(np.log(energy_range[0]), np.log(energy_range[1]), num = 100))\n",
    "masses = np.exp(np.linspace(np.log(mass_range[0]), np.log(mass_range[1]), num = 100))\n",
    "\n",
    "fig, ax = pl.subplots(1,3, figsize = (8,4))\n",
    "for si in range(0,len(abun_lum_spec)):\n",
    "    ax[0].plot(masses, abun_lum_spec[si][0](param_true, masses, np.ones(100)), label = 'source '+str(si))\n",
    "    ax[1].plot(energies, abun_lum_spec[si][1](param_true, masses, np.ones(100)), label = 'source '+str(si))\n",
    "    ax[2].plot(energies, abun_lum_spec[si][2](param_true, energies), label = 'source '+str(si))\n",
    "ax[0].set_xscale('log')\n",
    "ax[1].set_xscale('log')\n",
    "ax[2].set_xscale('log')\n",
    "ax[0].set_yscale('log')\n",
    "ax[1].set_yscale('log')\n",
    "ax[2].set_yscale('log')\n",
    "ax[0].set_xlabel('Mass')\n",
    "ax[1].set_xlabel('Mass')\n",
    "ax[2].set_xlabel('Energy')\n",
    "ax[0].set_ylabel('Abundance')\n",
    "ax[1].set_ylabel('Luminosity')\n",
    "ax[2].set_ylabel('S(E)')\n",
    "ax[2].legend()\n",
    "fig.tight_layout()"
   ]
  },
  {
   "cell_type": "code",
   "execution_count": 5,
   "metadata": {},
   "outputs": [
    {
     "name": "stdout",
     "output_type": "stream",
     "text": [
      "Analysis Type: unbinned\n",
      "N_parameters =  2\n",
      "parameter min =  [ 0.1 -4. ]\n",
      "parameter max =  [1000.    0.]\n",
      "Emin =  1.0\n",
      "Emax =  50.0\n",
      "Mmin =  1000.0\n",
      "Mmax =  10000000000.0\n",
      "Rmax =  10\n",
      "N_source_classes =  1\n",
      "prior added\n"
     ]
    }
   ],
   "source": [
    "def lnprior(params):\n",
    "    return 0.\n",
    "\n",
    "#initialize the EPDFABC object\n",
    "my_abc = epdfabc.EPDFABC(param_range)\n",
    "my_abc.setup_unbinned(abun_lum_spec, energy_range, mass_range, Rmax, exposure, verbose = True)\n",
    "my_abc.add_lnprior(lnprior)"
   ]
  },
  {
   "cell_type": "code",
   "execution_count": 6,
   "metadata": {
    "scrolled": true
   },
   "outputs": [
    {
     "name": "stdout",
     "output_type": "stream",
     "text": [
      "num sources =  2099829\n",
      "{'masses': array([2033.80030585, 2763.38529005, 1426.11370719, ..., 1758.91659033,\n",
      "       1119.56431948, 2240.5278693 ]), 'distances': array([5.65272705, 1.33220051, 6.38480077, ..., 4.08403728, 1.83577674,\n",
      "       7.74554135]), 'angles': array([[2.89209577, 0.29041514],\n",
      "       [1.57344812, 1.03730063],\n",
      "       [2.70953517, 2.73598442],\n",
      "       ...,\n",
      "       [1.15561426, 3.24187875],\n",
      "       [0.50785402, 5.39945421],\n",
      "       [1.597308  , 3.69501741]]), 'luminosities': array([1.43503348e+32, 3.50868063e+32, 1.07956413e+32, ...,\n",
      "       1.16370489e+32, 9.45663503e+31, 1.21975744e+32]), 'types': array([0., 0., 0., ..., 0., 0., 0.])}\n",
      "number of sources =  (2099829,)\n"
     ]
    }
   ],
   "source": [
    "#demonstrates generating sources\n",
    "source_info = my_abc.create_sources(param_true)\n",
    "print(\"number of sources = \", source_info['masses'].shape)\n"
   ]
  },
  {
   "cell_type": "code",
   "execution_count": 7,
   "metadata": {},
   "outputs": [
    {
     "name": "stdout",
     "output_type": "stream",
     "text": [
      "{'angles': array([[0.64027092, 1.38555917],\n",
      "       [1.44916347, 4.12608545],\n",
      "       [0.08088761, 1.02023936],\n",
      "       ...,\n",
      "       [0.09524958, 1.01139132],\n",
      "       [1.06314756, 5.65076418],\n",
      "       [1.50709008, 2.71743205]]), 'energies': array([5.08333333, 1.        , 1.        , ..., 6.10416667, 1.        ,\n",
      "       1.        ])}\n"
     ]
    }
   ],
   "source": [
    "#demonstrates generating photons from sources\n",
    "photon_info = my_abc.generate_photons_from_sources(param_true, source_info)"
   ]
  },
  {
   "cell_type": "code",
   "execution_count": 8,
   "metadata": {},
   "outputs": [
    {
     "name": "stdout",
     "output_type": "stream",
     "text": [
      "num sources =  2099829\n",
      "{'masses': array([1253.42426546, 1403.28908479, 1846.14694632, ..., 5620.17384808,\n",
      "       1016.26508939, 1472.88272391]), 'distances': array([7.5848035 , 3.65019516, 4.08763744, ..., 0.82236118, 2.09842214,\n",
      "       2.47386516]), 'angles': array([[1.12293614, 6.02615542],\n",
      "       [1.94320962, 5.16636939],\n",
      "       [1.32664246, 2.89220012],\n",
      "       ...,\n",
      "       [1.78845012, 2.35134265],\n",
      "       [1.35301059, 1.46289415],\n",
      "       [1.57793752, 5.21961427]]), 'luminosities': array([1.39723773e+32, 1.12910302e+32, 8.95239568e+31, ...,\n",
      "       5.36419520e+32, 6.61900225e+31, 5.94042722e+32]), 'types': array([0., 0., 0., ..., 0., 0., 0.])}\n",
      "{'angles': array([[0.18877637, 0.60341211],\n",
      "       [1.17723887, 1.0913541 ],\n",
      "       [1.44717299, 3.60349588],\n",
      "       ...,\n",
      "       [1.07611868, 5.80634056],\n",
      "       [0.49374778, 0.34869795],\n",
      "       [0.85385232, 5.90439336]]), 'energies': array([ 1.        ,  3.04166667,  3.04166667, ...,  1.        ,\n",
      "       35.70833333,  1.        ])}\n"
     ]
    }
   ],
   "source": [
    "#Create mock data with \"true\" parameters by generating sources and photons\n",
    "obs_data_unbinned = my_abc.generate_mock_data_unbinned(param_true)\n"
   ]
  },
  {
   "cell_type": "code",
   "execution_count": 9,
   "metadata": {},
   "outputs": [
    {
     "name": "stdout",
     "output_type": "stream",
     "text": [
      "(12288, 5)\n",
      "max val =  100.0\n"
     ]
    },
    {
     "name": "stderr",
     "output_type": "stream",
     "text": [
      "<ipython-input-9-40011ecb9fbb>:6: RuntimeWarning: divide by zero encountered in log\n",
      "  hp.mollview(np.log(map_test[:,0]))\n"
     ]
    },
    {
     "data": {
      "image/png": "[encoded data removed]",
      "text/plain": [
       "<Figure size 612x388.8 with 2 Axes>"
      ]
     },
     "metadata": {
      "needs_background": "light"
     },
     "output_type": "display_data"
    }
   ],
   "source": [
    "#convert unbinned data to map\n",
    "map_test = my_abc.get_map_from_unbinned(photon_info, N_pix, N_E_bins, map_type = 'internal')\n",
    "print(map_test.shape)\n",
    "print(\"max val = \", np.max(map_test))\n",
    "\n",
    "hp.mollview(np.log(map_test[:,0]))\n"
   ]
  },
  {
   "cell_type": "code",
   "execution_count": 10,
   "metadata": {},
   "outputs": [
    {
     "ename": "NameError",
     "evalue": "name 'obs_data' is not defined",
     "output_type": "error",
     "traceback": [
      "\u001b[0;31m---------------------------------------------------------------------------\u001b[0m",
      "\u001b[0;31mNameError\u001b[0m                                 Traceback (most recent call last)",
      "\u001b[0;32m<ipython-input-10-f49cddc3883d>\u001b[0m in \u001b[0;36m<module>\u001b[0;34m\u001b[0m\n\u001b[1;32m      2\u001b[0m \u001b[0mN_samples\u001b[0m \u001b[0;34m=\u001b[0m \u001b[0;36m100\u001b[0m\u001b[0;34m\u001b[0m\u001b[0;34m\u001b[0m\u001b[0m\n\u001b[1;32m      3\u001b[0m \u001b[0mN_energy\u001b[0m \u001b[0;34m=\u001b[0m \u001b[0;36m5\u001b[0m\u001b[0;34m\u001b[0m\u001b[0;34m\u001b[0m\u001b[0m\n\u001b[0;32m----> 4\u001b[0;31m \u001b[0mposterior_samples\u001b[0m \u001b[0;34m=\u001b[0m \u001b[0mmy_abc\u001b[0m\u001b[0;34m.\u001b[0m\u001b[0mrun_abc_unbinned\u001b[0m\u001b[0;34m(\u001b[0m\u001b[0mobs_data\u001b[0m\u001b[0;34m,\u001b[0m \u001b[0mN_samples\u001b[0m\u001b[0;34m,\u001b[0m \u001b[0mN_energy\u001b[0m\u001b[0;34m,\u001b[0m \u001b[0mepsilon\u001b[0m \u001b[0;34m=\u001b[0m \u001b[0;36m100.\u001b[0m\u001b[0;34m)\u001b[0m\u001b[0;34m\u001b[0m\u001b[0;34m\u001b[0m\u001b[0m\n\u001b[0m\u001b[1;32m      5\u001b[0m \u001b[0mprint\u001b[0m\u001b[0;34m(\u001b[0m\u001b[0;34m\"posterior samples shape = \"\u001b[0m\u001b[0;34m,\u001b[0m \u001b[0mposterior_samples\u001b[0m\u001b[0;34m.\u001b[0m\u001b[0mshape\u001b[0m\u001b[0;34m)\u001b[0m\u001b[0;34m\u001b[0m\u001b[0;34m\u001b[0m\u001b[0m\n",
      "\u001b[0;31mNameError\u001b[0m: name 'obs_data' is not defined"
     ]
    }
   ],
   "source": [
    "#Get posterior using ABC\n",
    "N_samples = 100\n",
    "N_energy = 5\n",
    "posterior_samples = my_abc.run_abc_unbinned(obs_data, N_samples, N_energy, epsilon = 100.)\n",
    "print(\"posterior samples shape = \", posterior_samples.shape)"
   ]
  },
  {
   "cell_type": "code",
   "execution_count": null,
   "metadata": {},
   "outputs": [],
   "source": [
    "if (1):\n",
    "    #Getdist requires specification of parameter ranges to get accurate contours\n",
    "    ranges = {}\n",
    "    markers={} #true parameter values\n",
    "    for ii in range(0,len(param_min)):\n",
    "        ranges[param_names[ii]] = [param_min[ii], param_max[ii]]\n",
    "        markers[param_names[ii]] = param_true[ii]\n",
    "        \n",
    "    psamps = MCSamples(samples = posterior_samples, ranges = ranges, names = param_names, labels = param_labels)    \n",
    "\n",
    "\n",
    "    g = plots.get_subplot_plotter()\n",
    "    g.settings.title_limit_fontsize = 16 # reference size for 3.5 inch subplot\n",
    "    g.settings.axes_fontsize=18\n",
    "    g.settings.legend_fontsize = 26\n",
    "    g.settings.axes_labelsize = 22\n",
    "    g.triangle_plot(psamps, filled=True, markers=markers)"
   ]
  }
 ],
 "metadata": {
  "kernelspec": {
   "display_name": "Python 3",
   "language": "python",
   "name": "python3"
  },
  "language_info": {
   "codemirror_mode": {
    "name": "ipython",
    "version": 3
   },
   "file_extension": ".py",
   "mimetype": "text/x-python",
   "name": "python",
   "nbconvert_exporter": "python",
   "pygments_lexer": "ipython3",
   "version": "3.8.3"
  }
 },
 "nbformat": 4,
 "nbformat_minor": 4
}
