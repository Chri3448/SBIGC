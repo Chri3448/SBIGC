{
 "cells": [
  {
   "cell_type": "code",
   "execution_count": 47,
   "metadata": {},
   "outputs": [
    {
     "name": "stdout",
     "output_type": "stream",
     "text": [
      "Once deleted, variables cannot be recovered. Proceed (y/[n])? y\n"
     ]
    },
    {
     "name": "stderr",
     "output_type": "stream",
     "text": [
      "ERROR:root:Invalid alias: The name clear can't be aliased because it is another magic command.\n",
      "ERROR:root:Invalid alias: The name more can't be aliased because it is another magic command.\n",
      "ERROR:root:Invalid alias: The name less can't be aliased because it is another magic command.\n",
      "ERROR:root:Invalid alias: The name man can't be aliased because it is another magic command.\n"
     ]
    }
   ],
   "source": [
    "%reset\n",
    "\n",
    "import matplotlib.pyplot as pl\n",
    "\n",
    "import numpy as np\n",
    "import DMsignal\n",
    "\n",
    "%matplotlib inline"
   ]
  },
  {
   "cell_type": "code",
   "execution_count": 48,
   "metadata": {},
   "outputs": [],
   "source": [
    "mass_DM_MeV = 200000.\n",
    "channel = 'Tau'"
   ]
  },
  {
   "cell_type": "code",
   "execution_count": 49,
   "metadata": {},
   "outputs": [],
   "source": [
    "my_DM = DMsignal.DMsignal(channel)"
   ]
  },
  {
   "cell_type": "code",
   "execution_count": 50,
   "metadata": {},
   "outputs": [
    {
     "name": "stdout",
     "output_type": "stream",
     "text": [
      "('mDM', 'Log10x', 'eL', 'eR', 'e', 'MuL', 'MuR', 'Mu', 'TauL', 'TauR', 'Tau', 'q', 'c', 'b', 't', 'WL', 'WT', 'W', 'ZL', 'ZT', 'Z', 'g', 'Gamma', 'h', 'Nue', 'NuMu', 'NuTau', 'Ve', 'VMu', 'VTau')\n"
     ]
    }
   ],
   "source": [
    "data = np.genfromtxt('AtProduction_gammas.dat', names = True)\n",
    "print(data.dtype.names)\n",
    "match = np.where(data['mDM']  == mass_DM_MeV/1000.)\n",
    "log10x_table = data['Log10x'][match]\n",
    "dNdlog10x_table = data[channel][match]\n",
    "\n"
   ]
  },
  {
   "cell_type": "code",
   "execution_count": 51,
   "metadata": {},
   "outputs": [],
   "source": [
    "E = np.exp(np.linspace(np.log(1000.), np.log(100000.), 1000))\n",
    "dE = E[1:] - E[:-1]\n",
    "dNdE = my_DM.get_dNdE(E, channel, mass_DM_MeV)\n",
    "\n",
    "log10x = np.log10(E/mass_DM_MeV)\n",
    "dNdx = dNdE*mass_DM_MeV\n",
    "xx = E/mass_DM_MeV\n",
    "dNdlog10x = dNdx*xx*np.log(10.)\n"
   ]
  },
  {
   "cell_type": "code",
   "execution_count": 52,
   "metadata": {},
   "outputs": [
    {
     "data": {
      "image/png": "[encoded data removed]",
      "text/plain": [
       "<Figure size 432x288 with 1 Axes>"
      ]
     },
     "metadata": {
      "needs_background": "light"
     },
     "output_type": "display_data"
    }
   ],
   "source": [
    "fig, ax = pl.subplots(1,1)\n",
    "\n",
    "ax.plot((mass_DM_MeV/1000.)*10.**log10x_table, dNdlog10x_table, label = 'Table')\n",
    "ax.plot((mass_DM_MeV/1000.)*10.**log10x, dNdlog10x, label = 'DMsignal')\n",
    "\n",
    "ax.legend()\n",
    "\n",
    "ax.set_xscale('log')\n",
    "#ax.set_yscale('log')\n",
    "\n"
   ]
  },
  {
   "cell_type": "code",
   "execution_count": null,
   "metadata": {},
   "outputs": [],
   "source": []
  },
  {
   "cell_type": "code",
   "execution_count": null,
   "metadata": {},
   "outputs": [],
   "source": []
  },
  {
   "cell_type": "code",
   "execution_count": null,
   "metadata": {},
   "outputs": [],
   "source": []
  },
  {
   "cell_type": "code",
   "execution_count": 1,
   "metadata": {},
   "outputs": [],
   "source": [
    "import elfi\n",
    "from elfi.examples import ma2"
   ]
  },
  {
   "cell_type": "code",
   "execution_count": 5,
   "metadata": {},
   "outputs": [
    {
     "data": {
      "image/svg+xml": [
       "<?xml version=\"1.0\" encoding=\"UTF-8\" standalone=\"no\"?>\n",
       "<!DOCTYPE svg PUBLIC \"-//W3C//DTD SVG 1.1//EN\"\n",
       " \"http://www.w3.org/Graphics/SVG/1.1/DTD/svg11.dtd\">\n",
       "<!-- Generated by graphviz version 2.38.0 (20140413.2041)\n",
       " -->\n",
       "<!-- Title: %3 Pages: 1 -->\n",
       "<svg width=\"106pt\" height=\"360pt\"\n",
       " viewBox=\"0.00 0.00 106.30 360.09\" xmlns=\"http://www.w3.org/2000/svg\" xmlns:xlink=\"http://www.w3.org/1999/xlink\">\n",
       "<g id=\"graph0\" class=\"graph\" transform=\"scale(1 1) rotate(0) translate(4 356.091)\">\n",
       "<title>%3</title>\n",
       "<polygon fill=\"white\" stroke=\"none\" points=\"-4,4 -4,-356.091 102.296,-356.091 102.296,4 -4,4\"/>\n",
       "<!-- t1 -->\n",
       "<g id=\"node1\" class=\"node\"><title>t1</title>\n",
       "<ellipse fill=\"none\" stroke=\"black\" cx=\"49.1482\" cy=\"-334.091\" rx=\"18\" ry=\"18\"/>\n",
       "<text text-anchor=\"middle\" x=\"49.1482\" y=\"-330.391\" font-family=\"Times,serif\" font-size=\"14.00\">t1</text>\n",
       "</g>\n",
       "<!-- t2 -->\n",
       "<g id=\"node2\" class=\"node\"><title>t2</title>\n",
       "<ellipse fill=\"none\" stroke=\"black\" cx=\"26.1482\" cy=\"-262.091\" rx=\"18\" ry=\"18\"/>\n",
       "<text text-anchor=\"middle\" x=\"26.1482\" y=\"-258.391\" font-family=\"Times,serif\" font-size=\"14.00\">t2</text>\n",
       "</g>\n",
       "<!-- t1&#45;&gt;t2 -->\n",
       "<g id=\"edge1\" class=\"edge\"><title>t1&#45;&gt;t2</title>\n",
       "<path fill=\"none\" stroke=\"black\" d=\"M43.8137,-316.856C41.124,-308.67 37.7954,-298.539 34.7552,-289.286\"/>\n",
       "<polygon fill=\"black\" stroke=\"black\" points=\"38.0602,-288.132 31.6135,-279.725 31.41,-290.317 38.0602,-288.132\"/>\n",
       "</g>\n",
       "<!-- MA2 -->\n",
       "<g id=\"node3\" class=\"node\"><title>MA2</title>\n",
       "<ellipse fill=\"none\" stroke=\"black\" cx=\"49.1482\" cy=\"-178.194\" rx=\"29.795\" ry=\"29.795\"/>\n",
       "<text text-anchor=\"middle\" x=\"49.1482\" y=\"-174.494\" font-family=\"Times,serif\" font-size=\"14.00\">MA2</text>\n",
       "</g>\n",
       "<!-- t1&#45;&gt;MA2 -->\n",
       "<g id=\"edge2\" class=\"edge\"><title>t1&#45;&gt;MA2</title>\n",
       "<path fill=\"none\" stroke=\"black\" d=\"M50.7731,-315.924C51.6721,-305.558 52.6965,-292.078 53.1482,-280.091 53.9133,-259.788 53.1658,-237.188 52.1184,-218.533\"/>\n",
       "<polygon fill=\"black\" stroke=\"black\" points=\"55.5987,-218.101 51.495,-208.334 48.6117,-218.528 55.5987,-218.101\"/>\n",
       "</g>\n",
       "<!-- t2&#45;&gt;MA2 -->\n",
       "<g id=\"edge3\" class=\"edge\"><title>t2&#45;&gt;MA2</title>\n",
       "<path fill=\"none\" stroke=\"black\" d=\"M30.8026,-244.518C33.0238,-236.609 35.7808,-226.792 38.4766,-217.193\"/>\n",
       "<polygon fill=\"black\" stroke=\"black\" points=\"41.9047,-217.931 41.239,-207.357 35.1654,-216.038 41.9047,-217.931\"/>\n",
       "</g>\n",
       "<!-- S1 -->\n",
       "<g id=\"node4\" class=\"node\"><title>S1</title>\n",
       "<ellipse fill=\"none\" stroke=\"black\" cx=\"20.1482\" cy=\"-92.1482\" rx=\"20.2975\" ry=\"20.2975\"/>\n",
       "<text text-anchor=\"middle\" x=\"20.1482\" y=\"-88.4482\" font-family=\"Times,serif\" font-size=\"14.00\">S1</text>\n",
       "</g>\n",
       "<!-- MA2&#45;&gt;S1 -->\n",
       "<g id=\"edge4\" class=\"edge\"><title>MA2&#45;&gt;S1</title>\n",
       "<path fill=\"none\" stroke=\"black\" d=\"M39.6525,-149.674C36.4742,-140.463 32.9303,-130.192 29.7443,-120.959\"/>\n",
       "<polygon fill=\"black\" stroke=\"black\" points=\"33.0325,-119.758 26.462,-111.446 26.4153,-122.041 33.0325,-119.758\"/>\n",
       "</g>\n",
       "<!-- S2 -->\n",
       "<g id=\"node5\" class=\"node\"><title>S2</title>\n",
       "<ellipse fill=\"none\" stroke=\"black\" cx=\"78.1482\" cy=\"-92.1482\" rx=\"20.2975\" ry=\"20.2975\"/>\n",
       "<text text-anchor=\"middle\" x=\"78.1482\" y=\"-88.4482\" font-family=\"Times,serif\" font-size=\"14.00\">S2</text>\n",
       "</g>\n",
       "<!-- MA2&#45;&gt;S2 -->\n",
       "<g id=\"edge5\" class=\"edge\"><title>MA2&#45;&gt;S2</title>\n",
       "<path fill=\"none\" stroke=\"black\" d=\"M58.6439,-149.674C61.8222,-140.463 65.3662,-130.192 68.5521,-120.959\"/>\n",
       "<polygon fill=\"black\" stroke=\"black\" points=\"71.8811,-122.041 71.8344,-111.446 65.264,-119.758 71.8811,-122.041\"/>\n",
       "</g>\n",
       "<!-- d -->\n",
       "<g id=\"node6\" class=\"node\"><title>d</title>\n",
       "<ellipse fill=\"none\" stroke=\"black\" cx=\"49.1482\" cy=\"-18\" rx=\"18\" ry=\"18\"/>\n",
       "<text text-anchor=\"middle\" x=\"49.1482\" y=\"-14.3\" font-family=\"Times,serif\" font-size=\"14.00\">d</text>\n",
       "</g>\n",
       "<!-- S1&#45;&gt;d -->\n",
       "<g id=\"edge6\" class=\"edge\"><title>S1&#45;&gt;d</title>\n",
       "<path fill=\"none\" stroke=\"black\" d=\"M27.3168,-73.3138C30.8024,-64.642 35.055,-54.062 38.8778,-44.5513\"/>\n",
       "<polygon fill=\"black\" stroke=\"black\" points=\"42.1738,-45.736 42.6558,-35.1522 35.6788,-43.1253 42.1738,-45.736\"/>\n",
       "</g>\n",
       "<!-- S2&#45;&gt;d -->\n",
       "<g id=\"edge7\" class=\"edge\"><title>S2&#45;&gt;d</title>\n",
       "<path fill=\"none\" stroke=\"black\" d=\"M70.9797,-73.3138C67.4941,-64.642 63.2414,-54.062 59.4186,-44.5513\"/>\n",
       "<polygon fill=\"black\" stroke=\"black\" points=\"62.6176,-43.1253 55.6406,-35.1522 56.1227,-45.736 62.6176,-43.1253\"/>\n",
       "</g>\n",
       "</g>\n",
       "</svg>\n"
      ],
      "text/plain": [
       "<graphviz.dot.Digraph at 0x7f493c9d27b8>"
      ]
     },
     "execution_count": 5,
     "metadata": {},
     "output_type": "execute_result"
    }
   ],
   "source": [
    "model = ma2.get_model()\n",
    "elfi.draw(model)"
   ]
  },
  {
   "cell_type": "code",
   "execution_count": 7,
   "metadata": {},
   "outputs": [],
   "source": [
    "elfi.set_client('multiprocessing')"
   ]
  },
  {
   "cell_type": "code",
   "execution_count": 9,
   "metadata": {},
   "outputs": [
    {
     "name": "stdout",
     "output_type": "stream",
     "text": [
      "Progress [==================================================] 100.0% Complete\n",
      "CPU times: user 348 ms, sys: 36 ms, total: 384 ms\n",
      "Wall time: 2.89 s\n"
     ]
    }
   ],
   "source": [
    "rej = elfi.Rejection(model, 'd', batch_size =10000, seed = 20170530)\n",
    "%time result = rej.sample(5000, n_sim = int(1e6))"
   ]
  },
  {
   "cell_type": "code",
   "execution_count": null,
   "metadata": {},
   "outputs": [],
   "source": []
  }
 ],
 "metadata": {
  "kernelspec": {
   "display_name": "Python 3",
   "language": "python",
   "name": "python3"
  },
  "language_info": {
   "codemirror_mode": {
    "name": "ipython",
    "version": 3
   },
   "file_extension": ".py",
   "mimetype": "text/x-python",
   "name": "python",
   "nbconvert_exporter": "python",
   "pygments_lexer": "ipython3",
   "version": "3.7.2"
  }
 },
 "nbformat": 4,
 "nbformat_minor": 2
}
