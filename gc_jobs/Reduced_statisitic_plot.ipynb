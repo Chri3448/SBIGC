{
 "cells": [
  {
   "cell_type": "code",
   "execution_count": 1,
   "id": "709bab50",
   "metadata": {
    "scrolled": true
   },
   "outputs": [
    {
     "name": "stderr",
     "output_type": "stream",
     "text": [
      "/tmp/ipykernel_2548372/4129434108.py:1: DeprecationWarning: Importing display from IPython.core.display is deprecated since IPython 7.14, please import from IPython display\n",
      "  from IPython.core.display import Image, display\n"
     ]
    },
    {
     "data": {
      "text/html": [
       "<img src=\"https://www.greekmythology.com/images/mythology/aegis_228.jpg\" width=\"200\" class=\"unconfined\"/>"
      ],
      "text/plain": [
       "<IPython.core.display.Image object>"
      ]
     },
     "metadata": {},
     "output_type": "display_data"
    }
   ],
   "source": [
    "from IPython.core.display import Image, display\n",
    "display(Image(url='https://www.greekmythology.com/images/mythology/aegis_228.jpg', width=200, unconfined=True))"
   ]
  },
  {
   "cell_type": "code",
   "execution_count": 2,
   "id": "3b4468ce",
   "metadata": {},
   "outputs": [],
   "source": [
    "import numpy as np\n",
    "import healpy as hp\n",
    "import pickle as pk\n",
    "import torch\n",
    "from astropy import units as u\n",
    "from astropy import constants as c\n",
    "import matplotlib.pyplot as plt\n",
    "import seaborn as sns\n",
    "from os import listdir\n",
    "import os\n",
    "import sys\n",
    "sys.path.append('../astroLFI')\n",
    "import LFI_galactic_center\n",
    "from sources import FermiBackgrounds\n",
    "from sources import Model_O\n",
    "from sources import DMsignal\n",
    "from sources import smoothDM\n",
    "from sources import MSP\n",
    "from sources import Fermi_Bubbles\n",
    "from sbi.inference import SNLE, SNPE, prepare_for_sbi, simulate_for_sbi\n",
    "from sbi import utils as utils\n",
    "from sbi import analysis as analysis\n",
    "from sbi.inference.base import infer\n",
    "from getdist import plots, MCSamples\n",
    "\n",
    "%matplotlib inline"
   ]
  },
  {
   "cell_type": "code",
   "execution_count": 3,
   "id": "2166c528",
   "metadata": {},
   "outputs": [],
   "source": [
    "parameter_range = [[], []]\n",
    "abundance_luminosity_and_spectrum_list = []\n",
    "source_class_list = []\n",
    "parameter_names = []\n",
    "energy_range = [2000, 100000] #MeV\n",
    "energy_range_gen = [energy_range[0]*0.5, energy_range[1]*1.5]\n",
    "luminosity_range = 10.0**np.array([30, 37])\n",
    "max_radius = 8.5 + 20*2 #kpc\n",
    "#exposure = 10*2000*10*0.2 #cm^2 yr\n",
    "exposure = 2000*10*0.2 #cm^2 yr\n",
    "#exposure = 200*10*0.2 #cm^2 yr\n",
    "flux_cut = 1e-9 #photons/cm^2/s\n",
    "#flux_cut = np.inf\n",
    "angular_cut = 10*u.deg.to('rad') #degrees\n",
    "angular_cut_gen = angular_cut*1.5\n",
    "lat_cut = 2*u.deg.to('rad') #degrees\n",
    "lat_cut_gen = lat_cut*0.5"
   ]
  },
  {
   "cell_type": "code",
   "execution_count": 4,
   "id": "436a9dfc",
   "metadata": {},
   "outputs": [],
   "source": [
    "# Add core non-poisson millisecond pulsar source class\n",
    "start1_i = np.size(parameter_range[0])\n",
    "spec_file_path = '../data/MSP/1407_5583.txt'\n",
    "mean_spec_file_path = '../data/MSP/mean_spectrum.npy'\n",
    "my_MSP = MSP.MSP(spec_file_path)\n",
    "def R_core_np_wrap(r, params):\n",
    "    A = params[start1_i]\n",
    "    #A = 0.035\n",
    "    r_s = 20 #kpc\n",
    "    gamma = 1.2\n",
    "    return A * my_MSP.gNFW(r, r_s, gamma)**2\n",
    "\n",
    "def Theta_core_np_wrap(theta, params):\n",
    "    return np.ones(np.shape(theta))\n",
    "    #return np.concatenate((np.zeros(np.round(np.size(theta)/2).astype('int')), np.ones(np.round(np.size(theta)/2).astype('int')-1)))\n",
    "    #return np.sin(theta)**10\n",
    "\n",
    "def Phi_core_np_wrap(phi, params):\n",
    "    return np.ones(np.shape(phi))\n",
    "\n",
    "def L_core_np_wrap(L, params):\n",
    "    n_1 = -0.66\n",
    "    n_2 = 18.2\n",
    "    #L_b = params[start1_i+1] #1e34\n",
    "    L_b = 1.56e37/2.35 #photons/s\n",
    "    return my_MSP.luminosity_bpl(L, n_1, n_2, L_b)\n",
    "\n",
    "def spec_core_np_wrap(energy, num_spectra, params):\n",
    "    #return my_MSP.MSP_spectra_load(energy, mean_spec_file_path, num_spectra)\n",
    "    return my_MSP.MSP_spectra(energy, num_spectra)\n",
    "\n",
    "parameter_names.append('A_{core}')\n",
    "parameter_range[0].append(0.)\n",
    "parameter_range[1].append(0.07)\n",
    "#parameter_range[0].append(5e33)\n",
    "#parameter_range[1].append(1.5e34)\n",
    "MSP_core_np_als = [(R_core_np_wrap, Theta_core_np_wrap, Phi_core_np_wrap), L_core_np_wrap, spec_core_np_wrap]\n",
    "abundance_luminosity_and_spectrum_list.append(MSP_core_np_als)\n",
    "source_class_list.append('independent_spherical_multi_spectra')"
   ]
  },
  {
   "cell_type": "code",
   "execution_count": 4,
   "id": "fc681c6d",
   "metadata": {},
   "outputs": [],
   "source": [
    "# Add core poisson millisecond pulsar source class\n",
    "start1_i = np.size(parameter_range[0])\n",
    "spec_file_path = '../data/MSP/1407_5583.txt'\n",
    "mean_spec_file_path = '../data/MSP/mean_spectrum.npy'\n",
    "my_MSP = MSP.MSP(spec_file_path)\n",
    "def R_core_p_wrap(r, params):\n",
    "    A = params[start1_i]\n",
    "    #A = 1.0\n",
    "    r_s = 20 #kpc\n",
    "    gamma = 1.2\n",
    "    return A * my_MSP.gNFW(r, r_s, gamma)**2\n",
    "\n",
    "def Theta_core_p_wrap(theta, params):\n",
    "    return np.ones(np.shape(theta))\n",
    "    #return np.concatenate((np.zeros(np.round(np.size(theta)/2).astype('int')), np.ones(np.round(np.size(theta)/2).astype('int')-1)))\n",
    "    #return np.sin(theta)**10\n",
    "\n",
    "def Phi_core_p_wrap(phi, params):\n",
    "    return np.ones(np.shape(phi))\n",
    "\n",
    "def L_core_p_wrap(L, params):\n",
    "    n_1 = 0.97\n",
    "    n_2 = 2.6\n",
    "    #L_b = params[start1_i+1] #1e34\n",
    "    L_b = 1.061e36/2.25 #photons/s\n",
    "    return my_MSP.luminosity_bpl(L, n_1, n_2, L_b)\n",
    "\n",
    "def spec_core_p_wrap(energy, num_spectra, params):\n",
    "    #return my_MSP.MSP_spectra_load(energy, mean_spec_file_path, num_spectra)\n",
    "    return my_MSP.MSP_spectra(energy, num_spectra)\n",
    "\n",
    "parameter_names.append('A_{core}')\n",
    "parameter_range[0].append(0.)\n",
    "parameter_range[1].append(3.)\n",
    "#parameter_range[0].append(5e33)\n",
    "#parameter_range[1].append(1.5e34)\n",
    "MSP_core_p_als = [(R_core_p_wrap, Theta_core_p_wrap, Phi_core_p_wrap), L_core_p_wrap, spec_core_p_wrap]\n",
    "abundance_luminosity_and_spectrum_list.append(MSP_core_p_als)\n",
    "source_class_list.append('independent_spherical_multi_spectra')"
   ]
  },
  {
   "cell_type": "code",
   "execution_count": 5,
   "id": "f6f85898",
   "metadata": {},
   "outputs": [
    {
     "name": "stdout",
     "output_type": "stream",
     "text": [
      "non-poisson disk excpected source count =  1.8533745787762563\n"
     ]
    }
   ],
   "source": [
    "# Add disk non-poisson millisecond pulsar source class\n",
    "start2_i = np.size(parameter_range[0])\n",
    "spec_file_path = '../data/MSP/1407_5583.txt'\n",
    "mean_spec_file_path = '../data/MSP/mean_spectrum.npy'\n",
    "disk_file_path = '../data/MSP/Buschmann_etal_2020_fig7_disk.csv'\n",
    "GCE_file_path = '../data/MSP/Buschmann_etal_2020_fig7_GCE.csv'\n",
    "my_MSP = MSP.MSP(spec_file_path)\n",
    "disk_to_GCE_source_count_ratio = my_MSP.get_disk_to_GCE_source_count_ratio(disk_file_path, GCE_file_path)\n",
    "print('non-poisson disk excpected source count = ', 970*disk_to_GCE_source_count_ratio)\n",
    "def R_disk_np_wrap(r, params):\n",
    "    #A = params[start2_i]\n",
    "    A = 0.25\n",
    "    r_d = 5 #kpc\n",
    "    gamma = 1.2\n",
    "    return A * my_MSP.disk_R_MS(r, r_d)\n",
    "\n",
    "def Z_disk_np_wrap(z, params):\n",
    "    z_s = 0.3 #kpc\n",
    "    return my_MSP.disk_Z_MS(z, z_s)\n",
    "\n",
    "def Phi_disk_np_wrap(phi, params):\n",
    "    return np.ones(np.shape(phi))\n",
    "\n",
    "def L_disk_np_wrap(L, params):\n",
    "    n_1 = -0.66\n",
    "    n_2 = 18.2\n",
    "    #L_b = params[1] #1e34\n",
    "    L_b = 1.56e37/2.25 #photons/s\n",
    "    return my_MSP.luminosity_bpl(L, n_1, n_2, L_b)\n",
    "\n",
    "def spec_disk_np_wrap(energy, num_spectra, params):\n",
    "    #return my_MSP.MSP_spectra_load(energy, mean_spec_file_path, num_spectra)\n",
    "    return my_MSP.MSP_spectra(energy, num_spectra)\n",
    "\n",
    "#parameter_names.append('A_{disk}')\n",
    "#parameter_range[0].append(0.)\n",
    "#parameter_range[1].append(2.)\n",
    "MSP_disk_np_als = [(R_disk_np_wrap, Z_disk_np_wrap, Phi_disk_np_wrap), L_disk_np_wrap, spec_disk_np_wrap]\n",
    "abundance_luminosity_and_spectrum_list.append(MSP_disk_np_als)\n",
    "source_class_list.append('independent_cylindrical_multi_spectra')"
   ]
  },
  {
   "cell_type": "code",
   "execution_count": 5,
   "id": "31efea12",
   "metadata": {},
   "outputs": [
    {
     "name": "stdout",
     "output_type": "stream",
     "text": [
      "poisson disk excpected source count =  49.67808149297182\n"
     ]
    }
   ],
   "source": [
    "# Add disk poisson millisecond pulsar source class\n",
    "start2_i = np.size(parameter_range[0])\n",
    "spec_file_path = '../data/MSP/1407_5583.txt'\n",
    "mean_spec_file_path = '../data/MSP/mean_spectrum.npy'\n",
    "disk_file_path = '../data/MSP/Buschmann_etal_2020_fig7_disk.csv'\n",
    "GCE_file_path = '../data/MSP/Buschmann_etal_2020_fig7_GCE.csv'\n",
    "my_MSP = MSP.MSP(spec_file_path)\n",
    "disk_to_GCE_source_count_ratio = my_MSP.get_disk_to_GCE_source_count_ratio(disk_file_path, GCE_file_path)\n",
    "print('poisson disk excpected source count = ', 2.6e4*disk_to_GCE_source_count_ratio)\n",
    "def R_disk_p_wrap(r, params):\n",
    "    #A = params[start2_i]\n",
    "    A = 5.0\n",
    "    r_d = 5 #kpc\n",
    "    gamma = 1.2\n",
    "    return A * my_MSP.disk_R_MS(r, r_d)\n",
    "\n",
    "def Z_disk_p_wrap(z, params):\n",
    "    z_s = 0.3 #kpc\n",
    "    return my_MSP.disk_Z_MS(z, z_s)\n",
    "\n",
    "def Phi_disk_p_wrap(phi, params):\n",
    "    return np.ones(np.shape(phi))\n",
    "\n",
    "def L_disk_p_wrap(L, params):\n",
    "    n_1 = 0.97\n",
    "    n_2 = 2.60\n",
    "    #L_b = params[1] #1e34\n",
    "    L_b = 1.061e36/2.25 #photons/s\n",
    "    return my_MSP.luminosity_bpl(L, n_1, n_2, L_b)\n",
    "\n",
    "def spec_disk_p_wrap(energy, num_spectra, params):\n",
    "    #return my_MSP.MSP_spectra_load(energy, mean_spec_file_path, num_spectra)\n",
    "    return my_MSP.MSP_spectra(energy, num_spectra)\n",
    "\n",
    "#parameter_names.append('A_{disk}')\n",
    "#parameter_range[0].append(0.)\n",
    "#parameter_range[1].append(15.)\n",
    "MSP_disk_p_als = [(R_disk_p_wrap, Z_disk_p_wrap, Phi_disk_p_wrap), L_disk_p_wrap, spec_disk_p_wrap]\n",
    "abundance_luminosity_and_spectrum_list.append(MSP_disk_p_als)\n",
    "source_class_list.append('independent_cylindrical_multi_spectra')"
   ]
  },
  {
   "cell_type": "code",
   "execution_count": 6,
   "id": "35288fea",
   "metadata": {},
   "outputs": [],
   "source": [
    "# Add dark matter halo signal\n",
    "start3_i = np.size(parameter_range[0])\n",
    "N_side_DM = 2**8\n",
    "N_Ebins_DM = 100\n",
    "settings = {'N_side': N_side_DM, 'theta_cutoff': angular_cut, 'halo_dist': 8.5*u.kpc.to('cm'), 'Rs': 20*u.kpc.to('cm'), 'mass_func': 'gNFW'}\n",
    "my_DM_flux = smoothDM.smoothDM(**settings)\n",
    "channel = 'b'\n",
    "DM_directory = '../data/dm_spectra/'\n",
    "my_DM_signal = DMsignal.DMsignal(DM_directory, channel)\n",
    "fix_spec_to_MSP_mean = True\n",
    "\n",
    "def DM_wrap(params):\n",
    "    #DM_mass = params[start3_i] #MeV\n",
    "    DM_mass = 30000 #MeV\n",
    "    #cross_sec = params[start3_i + 1]*1e-26 #cm^3 s^-1\n",
    "    cross_sec = params[start3_i]*1e-26*DM_mass**2 #cm^3 s^-1\n",
    "    rho_s = 1.06e-2*u.Msun.to('kg')*c.c.value**2*u.J.to('MeV')/u.pc.to('cm')**3\n",
    "    r_s = 20*u.kpc.to('cm')\n",
    "    gamma = 1.2\n",
    "    DM_energies = np.geomspace(energy_range[0], energy_range[1], N_Ebins_DM+1) #MeV\n",
    "    dNdE = my_DM_signal.get_dNdE(DM_energies, channel, DM_mass)\n",
    "    if fix_spec_to_MSP_mean:\n",
    "        spec_file_path = '../data/MSP/1407_5583.txt'\n",
    "        mean_spec_file_path = '../data/MSP/mean_spectrum.npy'\n",
    "        my_MSP = MSP.MSP(spec_file_path)\n",
    "        mean_spec = my_MSP.MSP_spectra_load(DM_energies, mean_spec_file_path, 1)[0,:]\n",
    "        dNdE = mean_spec*np.sum(dNdE[:-1]*(DM_energies[1:]-DM_energies[:-1]))\n",
    "    mass_func_params = (r_s, rho_s, gamma)\n",
    "    DM_map, DM_indices = my_DM_flux.get_map(DM_mass, cross_sec, dNdE, mass_func_params)\n",
    "    return DM_map.T, DM_energies, DM_indices, N_side_DM\n",
    "\n",
    "#parameter_names.append(r'm_{\\chi}')\n",
    "#parameter_range[0].append(10000.)\n",
    "#parameter_range[1].append(100000.)\n",
    "parameter_names.append(r'\\langle\\sigma v\\rangle_0/m_{\\chi}^2')\n",
    "parameter_range[0].append(0./30000**2)\n",
    "parameter_range[1].append(10.0/30000**2)\n",
    "DM_als = [DM_wrap]\n",
    "abundance_luminosity_and_spectrum_list.append(DM_als)\n",
    "source_class_list.append('healpix_map')"
   ]
  },
  {
   "cell_type": "code",
   "execution_count": 7,
   "id": "dceed6f5",
   "metadata": {},
   "outputs": [],
   "source": [
    "# Add Fermi isotropic background source class\n",
    "my_FB = FermiBackgrounds.FermiBackgrounds('..')\n",
    "def spec_iso_wrap(energy, params):\n",
    "    iso_fit = my_FB.get_isotropic_background_spectrum_func()\n",
    "    return iso_fit(energy)\n",
    "FIB_als = [spec_iso_wrap]\n",
    "abundance_luminosity_and_spectrum_list.append(FIB_als)\n",
    "source_class_list.append('isotropic_diffuse')"
   ]
  },
  {
   "cell_type": "code",
   "execution_count": null,
   "id": "fe49f799",
   "metadata": {},
   "outputs": [],
   "source": [
    "# Add Fermi nonisotropic background source class\n",
    "my_FB = FermiBackgrounds.FermiBackgrounds('..')\n",
    "N_side_FB = 2**9\n",
    "N_Ebins = 1500\n",
    "FB_map, FB_energies, FB_indices = my_FB.get_partial_nonistropic_background(angular_cut_gen, energy_range_gen[0], energy_range_gen[1], N_Ebins, N_side_FB)\n",
    "'''\n",
    "FNB_dict = my_FB.get_nonistropic_background(N_side_FB = 2**10)\n",
    "map_all = FNB_dict['galactic_bg']\n",
    "map_E = FNB_dict['energies_MeV']\n",
    "gal_bg_data = pk.load(open('../data/FermiData/galactic_bg_healpix_Nside128.pk','rb'))\n",
    "map_all = gal_bg_data['galactic_bg']\n",
    "map_E = gal_bg_data['energies_MeV']\n",
    "'''\n",
    "\n",
    "def FNB_wrap(params):\n",
    "    return FB_map, FB_energies, FB_indices, N_side_FB\n",
    "\n",
    "FNB_als = [FNB_wrap]\n",
    "abundance_luminosity_and_spectrum_list.append(FNB_als)\n",
    "source_class_list.append('healpix_map')\n",
    "\n",
    "parameter_names = ['A_{core}', 'A_{disk}', r'm_{\\chi}', r'\\langle\\sigma_{DM} v\\rangle_0', r'A_{O}']\n",
    "parameter_range = [[0., 0., 500000., 0., 0.5], [0.07, 2., 1000000., 30., 1.5]] #nonpoisson extendedDM2\n",
    "#parameter_range = [[0., 0., 500000., 0., 0.5], [3., 15., 1000000., 30., 1.5]] #poisson extendedDM\n",
    "#parameter_range = [[0., 0., 400000., 0., 0.5], [0.07, 2., 800000., 30., 1.5]] #nonpoisson limitedDM\n",
    "#parameter_range = [[0., 0., 400000., 0., 0.5], [3., 15., 800000., 30., 1.5]] #poisson limitedDM"
   ]
  },
  {
   "cell_type": "code",
   "execution_count": 8,
   "id": "98ec6727",
   "metadata": {},
   "outputs": [],
   "source": [
    "# Add Model O source class\n",
    "start4_i = np.size(parameter_range[0])\n",
    "N_side_MO = 2**8\n",
    "N_Ebins_MO = 1500\n",
    "my_MO = Model_O.Model_O('..')\n",
    "\n",
    "# inverse compton scattering model:\n",
    "MO_ics_map, MO_ics_energies, MO_ics_indices = my_MO.get_partial_map_ics(angular_cut_gen, energy_range_gen[0], energy_range_gen[1], N_Ebins_MO, N_side_MO)\n",
    "def MO_ics_wrap(params):\n",
    "    A_O = 1\n",
    "    #A_O = params[start4_i]\n",
    "    return A_O*MO_ics_map, MO_ics_energies, MO_ics_indices, N_side_MO\n",
    "\n",
    "MO_ics_als = [MO_ics_wrap]\n",
    "abundance_luminosity_and_spectrum_list.append(MO_ics_als)\n",
    "source_class_list.append('healpix_map')\n",
    "\n",
    "# pi^0 + Bremsstrahlung model:\n",
    "MO_pibrem_map, MO_pibrem_energies, MO_pibrem_indices = my_MO.get_partial_map_pibrem(angular_cut_gen, energy_range_gen[0], energy_range_gen[1], N_Ebins_MO, N_side_MO)\n",
    "def MO_pibrem_wrap(params):\n",
    "    A_O = 1\n",
    "    #A_O = params[start4_i]\n",
    "    return A_O*MO_pibrem_map, MO_pibrem_energies, MO_pibrem_indices, N_side_MO\n",
    "\n",
    "#parameter_names.append(r'A_{O}')\n",
    "#parameter_range[0].append(0.5)\n",
    "#parameter_range[1].append(1.5)\n",
    "MO_pibrem_als = [MO_pibrem_wrap]\n",
    "abundance_luminosity_and_spectrum_list.append(MO_pibrem_als)\n",
    "source_class_list.append('healpix_map')"
   ]
  },
  {
   "cell_type": "code",
   "execution_count": 9,
   "id": "49242c2f",
   "metadata": {},
   "outputs": [
    {
     "data": {
      "text/html": [
       "<img src=\"https://cdn.shopify.com/s/files/1/0605/9520/8383/files/logo-modelo_008b34f4-c9a9-4164-a0b8-f8950a4c79b9_large.png?v=1638135925\" width=\"200\" class=\"unconfined\"/>"
      ],
      "text/plain": [
       "<IPython.core.display.Image object>"
      ]
     },
     "metadata": {},
     "output_type": "display_data"
    }
   ],
   "source": [
    "display(Image(url='https://cdn.shopify.com/s/files/1/0605/9520/8383/files/logo-modelo_008b34f4-c9a9-4164-a0b8-f8950a4c79b9_large.png?v=1638135925', width=200, unconfined=True))\n",
    "my_MO = Model_O.Model_O('..')"
   ]
  },
  {
   "cell_type": "code",
   "execution_count": 10,
   "id": "85bd26e0",
   "metadata": {},
   "outputs": [],
   "source": [
    "# Add Fermi Bubbles source class\n",
    "my_FBub = Fermi_Bubbles.Fermi_Bubbles('..')\n",
    "N_side_FBub = 2**8\n",
    "N_Ebins_FBub = 1500\n",
    "\n",
    "FBub_map, FBub_energies, FBub_indices = my_FBub.get_partial_map(angular_cut_gen, energy_range_gen[0], energy_range_gen[1], N_Ebins_FBub, N_side_FBub)\n",
    "def FBub_wrap(params):\n",
    "    return FBub_map, FBub_energies, FBub_indices, N_side_FBub\n",
    "\n",
    "FBub_als = [FBub_wrap]\n",
    "abundance_luminosity_and_spectrum_list.append(FBub_als)\n",
    "source_class_list.append('healpix_map')"
   ]
  },
  {
   "cell_type": "code",
   "execution_count": 11,
   "id": "c5d5095f",
   "metadata": {},
   "outputs": [],
   "source": [
    "my_LFI = LFI_galactic_center.LFI_G(abundance_luminosity_and_spectrum_list, source_class_list, parameter_range, energy_range, luminosity_range, max_radius, exposure, angular_cut, lat_cut, flux_cut, verbose = False)\n",
    "my_LFI.angular_cut_gen, my_LFI.lat_cut_gen, my_LFI.Emin_gen, my_LFI.Emax_gen = angular_cut_gen, lat_cut_gen, energy_range_gen[0], energy_range_gen[1]"
   ]
  },
  {
   "cell_type": "code",
   "execution_count": 12,
   "id": "386b5c29",
   "metadata": {},
   "outputs": [
    {
     "name": "stderr",
     "output_type": "stream",
     "text": [
      "/home/chri3448/EPDF_ABC/gc_jobs/../astroLFI/LFI_galactic_center.py:416: RuntimeWarning: invalid value encountered in arccos\n",
      "  earth_angles[:,1] = np.arccos(x/distances/np.sin(earth_angles[:,0]))\n",
      "/home/chri3448/EPDF_ABC/gc_jobs/../astroLFI/LFI_galactic_center.py:720: RuntimeWarning: invalid value encountered in divide\n",
      "  x_pdf = np.sum(pdf, axis = 1)/np.sum(pdf)\n",
      "/home/chri3448/EPDF_ABC/gc_jobs/../astroLFI/LFI_galactic_center.py:724: RuntimeWarning: invalid value encountered in divide\n",
      "  y_cdfs = np.cumsum(pdf, axis = 1)/np.tile(np.sum(pdf, axis = 1), (np.size(pdf[0,:]),1)).T\n"
     ]
    }
   ],
   "source": [
    "#overplot of contours\n",
    "\n",
    "#%reset\n",
    "\n",
    "#input_params = torch.tensor([1., 1/30000**2]) #poisson 50/50\n",
    "#input_params = torch.tensor([2., 0/30000**2]) #poisson no DM\n",
    "#input_params = torch.tensor([0., 2/30000**2]) #poisson no PS\n",
    "#input_params = torch.tensor([0.022, 1/30000**2]) #non-poisson 50/50\n",
    "input_params = torch.tensor([2*0.022, 0/30000**2]) #non-poisson no DM\n",
    "#input_params = torch.tensor([0*0.022, 2/30000**2]) #non-poisson no PS\n",
    "\n",
    "#file = 'figures/reduced_summary_poisson_5050.pdf'\n",
    "#file = 'figures/reduced_summary_poisson_noDM.pdf'\n",
    "#file = 'figures/reduced_summary_poisson_noPS.pdf'\n",
    "#file = 'figures/reduced_summary_nonpoisson_5050.pdf'\n",
    "file = 'figures/reduced_summary_nonpoisson_noDM.pdf'\n",
    "#file = 'figures/reduced_summary_nonpoisson_noPS.pdf'\n",
    "\n",
    "static_observation = True #prevents simulator(s) from generating unique photons when called if True\n",
    "load_sopi = True #sets the static observation photon info to the saved pickle\n",
    "\n",
    "################################################################################################################################\n",
    "static_source_info = my_LFI.create_sources(input_params.numpy(), grains = 4000)\n",
    "static_photon_info = my_LFI.generate_photons_from_sources(input_params.numpy(), static_source_info, grains = 1000)\n",
    "static_obs_info = {'psf_fits_path': '../paper2/paper2_data/Fermi_files/psf_P8R3_ULTRACLEANVETO_V2_PSF.fits', 'edisp_fits_path': '../paper2/paper2_data/Fermi_files/edisp_P8R3_ULTRACLEANVETO_V2_PSF.fits', 'event_type': 'PSF3', 'exposure_map': None}\n",
    "static_obs_photon_info = my_LFI.mock_observe(static_photon_info, static_obs_info)\n",
    "if load_sopi:\n",
    "    static_obs_photon_info = np.load(file[:-4] + '.npy', allow_pickle=True)[()]\n",
    "\n",
    "def simulator1(params):\n",
    "    params = params.numpy()\n",
    "    N_side = 2**6\n",
    "    N_Ebins = 10\n",
    "    mincount = 0\n",
    "    maxcount = 650\n",
    "    N_countbins = 10\n",
    "    source_info = my_LFI.create_sources(params, grains = 4000)\n",
    "    photon_info = my_LFI.generate_photons_from_sources(params, source_info, grains = 1000)\n",
    "    obs_info = {'psf_fits_path': '../paper2/paper2_data/Fermi_files/psf_P8R3_ULTRACLEANVETO_V2_PSF.fits', 'edisp_fits_path': '../paper2/paper2_data/Fermi_files/edisp_P8R3_ULTRACLEANVETO_V2_PSF.fits', 'event_type': 'PSF3', 'exposure_map': None}\n",
    "    #obs_photon_info = my_LFI.mock_observe(photon_info, obs_info)\n",
    "    obs_photon_info = my_LFI.apply_exposure(photon_info, obs_info)\n",
    "    obs_photon_info = my_LFI.apply_PSF(obs_photon_info, obs_info, single_energy_psf = False, single_energy_value = None)\n",
    "    obs_photon_info = my_LFI.apply_energy_dispersion(obs_photon_info, obs_info, single_energy_ed = False, single_energy_value = None)\n",
    "    obs_photon_info = my_LFI.apply_mask(obs_photon_info, obs_info)\n",
    "    if static_observation:\n",
    "        obs_photon_info = static_obs_photon_info\n",
    "    #heatmap = my_LFI.get_partial_map_summary(obs_photon_info, N_side, N_Ebins)[0]\n",
    "    heatmap_roi = my_LFI.get_roi_map_summary(obs_photon_info, N_side, N_Ebins, Ebinspace = 'log')\n",
    "    heatmap_counts = my_LFI.get_counts_histogram_from_roi_map(heatmap_roi, mincount, maxcount, N_countbins, countbinspace = 'log')\n",
    "    heatmap_combined = np.concatenate((heatmap_roi.flatten(), heatmap_counts.flatten()))\n",
    "    return heatmap_counts.flatten()\n",
    "def simulator2(params):\n",
    "    params = params.numpy()\n",
    "    N_side = 2**6\n",
    "    N_Ebins = 1\n",
    "    mincount = 0\n",
    "    maxcount = 650\n",
    "    N_countbins = 10\n",
    "    source_info = my_LFI.create_sources(params, grains = 4000)\n",
    "    photon_info = my_LFI.generate_photons_from_sources(params, source_info, grains = 1000)\n",
    "    obs_info = {'psf_fits_path': '../paper2/paper2_data/Fermi_files/psf_P8R3_ULTRACLEANVETO_V2_PSF.fits', 'edisp_fits_path': '../paper2/paper2_data/Fermi_files/edisp_P8R3_ULTRACLEANVETO_V2_PSF.fits', 'event_type': 'PSF3', 'exposure_map': None}\n",
    "    #obs_photon_info = my_LFI.mock_observe(photon_info, obs_info)\n",
    "    obs_photon_info = my_LFI.apply_exposure(photon_info, obs_info)\n",
    "    obs_photon_info = my_LFI.apply_PSF(obs_photon_info, obs_info, single_energy_psf = False, single_energy_value = None)\n",
    "    obs_photon_info = my_LFI.apply_energy_dispersion(obs_photon_info, obs_info, single_energy_ed = False, single_energy_value = None)\n",
    "    obs_photon_info = my_LFI.apply_mask(obs_photon_info, obs_info)\n",
    "    if static_observation:\n",
    "        obs_photon_info = static_obs_photon_info\n",
    "    #heatmap = my_LFI.get_partial_map_summary(obs_photon_info, N_side, N_Ebins)[0]\n",
    "    heatmap_roi = my_LFI.get_roi_map_summary(obs_photon_info, N_side, N_Ebins, Ebinspace = 'log')\n",
    "    heatmap_counts = my_LFI.get_counts_histogram_from_roi_map(heatmap_roi, mincount, maxcount, N_countbins, countbinspace = 'log')\n",
    "    heatmap_combined = np.concatenate((heatmap_roi.flatten(), heatmap_counts.flatten()))\n",
    "    return heatmap_counts.flatten()\n",
    "def simulator3(params):\n",
    "    params = params.numpy()\n",
    "    N_side = 2**6\n",
    "    N_Ebins = 10\n",
    "    mincount = 0\n",
    "    maxcount = 650\n",
    "    N_countbins = 10\n",
    "    source_info = my_LFI.create_sources(params, grains = 4000)\n",
    "    photon_info = my_LFI.generate_photons_from_sources(params, source_info, grains = 1000)\n",
    "    obs_info = {'psf_fits_path': '../paper2/paper2_data/Fermi_files/psf_P8R3_ULTRACLEANVETO_V2_PSF.fits', 'edisp_fits_path': '../paper2/paper2_data/Fermi_files/edisp_P8R3_ULTRACLEANVETO_V2_PSF.fits', 'event_type': 'PSF3', 'exposure_map': None}\n",
    "    #obs_photon_info = my_LFI.mock_observe(photon_info, obs_info)\n",
    "    obs_photon_info = my_LFI.apply_exposure(photon_info, obs_info)\n",
    "    obs_photon_info = my_LFI.apply_PSF(obs_photon_info, obs_info, single_energy_psf = False, single_energy_value = None)\n",
    "    obs_photon_info = my_LFI.apply_energy_dispersion(obs_photon_info, obs_info, single_energy_ed = False, single_energy_value = None)\n",
    "    obs_photon_info = my_LFI.apply_mask(obs_photon_info, obs_info)\n",
    "    if static_observation:\n",
    "        obs_photon_info = static_obs_photon_info\n",
    "    #heatmap = my_LFI.get_partial_map_summary(obs_photon_info, N_side, N_Ebins)[0]\n",
    "    heatmap_roi = my_LFI.get_roi_map_summary(obs_photon_info, N_side, N_Ebins, Ebinspace = 'log')\n",
    "    heatmap_counts = my_LFI.get_counts_histogram_from_roi_map(heatmap_roi, mincount, maxcount, N_countbins, countbinspace = 'log')\n",
    "    heatmap_combined = np.concatenate((heatmap_roi.flatten(), heatmap_counts.flatten()))\n",
    "    return np.sum(heatmap_roi, axis = 0)\n",
    "def simulator4(params):\n",
    "    params = params.numpy()\n",
    "    N_side = 2**6\n",
    "    N_Ebins = 10\n",
    "    mincount = 0\n",
    "    maxcount = 650\n",
    "    N_countbins = 10\n",
    "    source_info = my_LFI.create_sources(params, grains = 4000)\n",
    "    photon_info = my_LFI.generate_photons_from_sources(params, source_info, grains = 1000)\n",
    "    obs_info = {'psf_fits_path': '../paper2/paper2_data/Fermi_files/psf_P8R3_ULTRACLEANVETO_V2_PSF.fits', 'edisp_fits_path': '../paper2/paper2_data/Fermi_files/edisp_P8R3_ULTRACLEANVETO_V2_PSF.fits', 'event_type': 'PSF3', 'exposure_map': None}\n",
    "    #obs_photon_info = my_LFI.mock_observe(photon_info, obs_info)\n",
    "    obs_photon_info = my_LFI.apply_exposure(photon_info, obs_info)\n",
    "    obs_photon_info = my_LFI.apply_PSF(obs_photon_info, obs_info, single_energy_psf = False, single_energy_value = None)\n",
    "    obs_photon_info = my_LFI.apply_energy_dispersion(obs_photon_info, obs_info, single_energy_ed = False, single_energy_value = None)\n",
    "    obs_photon_info = my_LFI.apply_mask(obs_photon_info, obs_info)\n",
    "    if static_observation:\n",
    "        obs_photon_info = static_obs_photon_info\n",
    "    #heatmap = my_LFI.get_partial_map_summary(obs_photon_info, N_side, N_Ebins)[0]\n",
    "    heatmap_roi = my_LFI.get_roi_map_summary(obs_photon_info, N_side, N_Ebins, Ebinspace = 'log')\n",
    "    heatmap_counts = my_LFI.get_counts_histogram_from_roi_map(heatmap_roi, mincount, maxcount, N_countbins, countbinspace = 'log')\n",
    "    heatmap_combined = np.concatenate((heatmap_roi.flatten(), heatmap_counts.flatten()))\n",
    "    return heatmap_combined\n",
    "def simulator5(params):\n",
    "    params = params.numpy()\n",
    "    N_side = 2**6\n",
    "    N_Ebins = 10\n",
    "    mincount = 0\n",
    "    maxcount = 650\n",
    "    N_countbins = 10\n",
    "    source_info = my_LFI.create_sources(params, grains = 4000)\n",
    "    photon_info = my_LFI.generate_photons_from_sources(params, source_info, grains = 1000)\n",
    "    obs_info = {'psf_fits_path': '../paper2/paper2_data/Fermi_files/psf_P8R3_ULTRACLEANVETO_V2_PSF.fits', 'edisp_fits_path': '../paper2/paper2_data/Fermi_files/edisp_P8R3_ULTRACLEANVETO_V2_PSF.fits', 'event_type': 'PSF3', 'exposure_map': None}\n",
    "    #obs_photon_info = my_LFI.mock_observe(photon_info, obs_info)\n",
    "    obs_photon_info = my_LFI.apply_exposure(photon_info, obs_info)\n",
    "    obs_photon_info = my_LFI.apply_PSF(obs_photon_info, obs_info, single_energy_psf = False, single_energy_value = None)\n",
    "    obs_photon_info = my_LFI.apply_energy_dispersion(obs_photon_info, obs_info, single_energy_ed = False, single_energy_value = None)\n",
    "    obs_photon_info = my_LFI.apply_mask(obs_photon_info, obs_info)\n",
    "    if static_observation:\n",
    "        obs_photon_info = static_obs_photon_info\n",
    "    #heatmap = my_LFI.get_partial_map_summary(obs_photon_info, N_side, N_Ebins)[0]\n",
    "    heatmap_roi = my_LFI.get_roi_map_summary(obs_photon_info, N_side, N_Ebins, Ebinspace = 'log')\n",
    "    heatmap_counts = my_LFI.get_counts_histogram_from_roi_map(heatmap_roi, mincount, maxcount, N_countbins, countbinspace = 'log')\n",
    "    heatmap_combined = np.concatenate((heatmap_roi.flatten(), heatmap_counts.flatten()))\n",
    "    return np.sum(heatmap_roi, axis = 1)\n",
    "def simulator6(params):\n",
    "    params = params.numpy()\n",
    "    N_side = 2**6\n",
    "    N_Ebins = 10\n",
    "    mincount = 0\n",
    "    maxcount = 650\n",
    "    N_countbins = 10\n",
    "    source_info = my_LFI.create_sources(params, grains = 4000)\n",
    "    photon_info = my_LFI.generate_photons_from_sources(params, source_info, grains = 1000)\n",
    "    obs_info = {'psf_fits_path': '../paper2/paper2_data/Fermi_files/psf_P8R3_ULTRACLEANVETO_V2_PSF.fits', 'edisp_fits_path': '../paper2/paper2_data/Fermi_files/edisp_P8R3_ULTRACLEANVETO_V2_PSF.fits', 'event_type': 'PSF3', 'exposure_map': None}\n",
    "    #obs_photon_info = my_LFI.mock_observe(photon_info, obs_info)\n",
    "    obs_photon_info = my_LFI.apply_exposure(photon_info, obs_info)\n",
    "    obs_photon_info = my_LFI.apply_PSF(obs_photon_info, obs_info, single_energy_psf = False, single_energy_value = None)\n",
    "    obs_photon_info = my_LFI.apply_energy_dispersion(obs_photon_info, obs_info, single_energy_ed = False, single_energy_value = None)\n",
    "    obs_photon_info = my_LFI.apply_mask(obs_photon_info, obs_info)\n",
    "    if static_observation:\n",
    "        obs_photon_info = static_obs_photon_info\n",
    "    #heatmap = my_LFI.get_partial_map_summary(obs_photon_info, N_side, N_Ebins)[0]\n",
    "    heatmap_roi = my_LFI.get_roi_map_summary(obs_photon_info, N_side, N_Ebins, Ebinspace = 'log')\n",
    "    heatmap_counts = my_LFI.get_counts_histogram_from_roi_map(heatmap_roi, mincount, maxcount, N_countbins, countbinspace = 'log')\n",
    "    heatmap_combined = np.concatenate((heatmap_roi.flatten(), heatmap_counts.flatten()))\n",
    "    return heatmap_roi.flatten()\n",
    "def simulator7(params):\n",
    "    params = params.numpy()\n",
    "    N_side = 2**6\n",
    "    N_Ebins = 10\n",
    "    mincount = 0\n",
    "    maxcount = 650\n",
    "    N_countbins = 10\n",
    "    source_info = my_LFI.create_sources(params, grains = 4000)\n",
    "    photon_info = my_LFI.generate_photons_from_sources(params, source_info, grains = 1000)\n",
    "    obs_info = {'psf_fits_path': '../paper2/paper2_data/Fermi_files/psf_P8R3_ULTRACLEANVETO_V2_PSF.fits', 'edisp_fits_path': '../paper2/paper2_data/Fermi_files/edisp_P8R3_ULTRACLEANVETO_V2_PSF.fits', 'event_type': 'PSF3', 'exposure_map': None}\n",
    "    #obs_photon_info = my_LFI.mock_observe(photon_info, obs_info)\n",
    "    obs_photon_info = my_LFI.apply_exposure(photon_info, obs_info)\n",
    "    obs_photon_info = my_LFI.apply_PSF(obs_photon_info, obs_info, single_energy_psf = False, single_energy_value = None)\n",
    "    obs_photon_info = my_LFI.apply_energy_dispersion(obs_photon_info, obs_info, single_energy_ed = False, single_energy_value = None)\n",
    "    obs_photon_info = my_LFI.apply_mask(obs_photon_info, obs_info)\n",
    "    if static_observation:\n",
    "        obs_photon_info = static_obs_photon_info\n",
    "    #heatmap = my_LFI.get_partial_map_summary(obs_photon_info, N_side, N_Ebins)[0]\n",
    "    heatmap_roi = my_LFI.get_roi_map_summary(obs_photon_info, N_side, N_Ebins, Ebinspace = 'log')\n",
    "    heatmap_counts = my_LFI.get_counts_histogram_from_roi_map(heatmap_roi, mincount, maxcount, N_countbins, countbinspace = 'log')\n",
    "    heatmap_combined = np.concatenate((heatmap_roi.flatten(), heatmap_counts.flatten()))\n",
    "    return np.sum(heatmap_roi, axis = 0)/np.sum(heatmap_roi)\n",
    "simulators = [simulator1, simulator2, simulator7, simulator1, simulator7]"
   ]
  },
  {
   "cell_type": "code",
   "execution_count": 13,
   "id": "809e06fc",
   "metadata": {},
   "outputs": [
    {
     "name": "stderr",
     "output_type": "stream",
     "text": [
      "/home/chri3448/EPDF_ABC/gc_jobs/../astroLFI/LFI_galactic_center.py:416: RuntimeWarning: invalid value encountered in arccos\n",
      "  earth_angles[:,1] = np.arccos(x/distances/np.sin(earth_angles[:,0]))\n",
      "/home/chri3448/EPDF_ABC/gc_jobs/../astroLFI/LFI_galactic_center.py:720: RuntimeWarning: invalid value encountered in divide\n",
      "  x_pdf = np.sum(pdf, axis = 1)/np.sum(pdf)\n",
      "/home/chri3448/EPDF_ABC/gc_jobs/../astroLFI/LFI_galactic_center.py:724: RuntimeWarning: invalid value encountered in divide\n",
      "  y_cdfs = np.cumsum(pdf, axis = 1)/np.tile(np.sum(pdf, axis = 1), (np.size(pdf[0,:]),1)).T\n"
     ]
    },
    {
     "data": {
      "application/vnd.jupyter.widget-view+json": {
       "model_id": "aafed04be3174fe7844f99683cfc8861",
       "version_major": 2,
       "version_minor": 0
      },
      "text/plain": [
       "Drawing 10000 posterior samples:   0%|          | 0/10000 [00:00<?, ?it/s]"
      ]
     },
     "metadata": {},
     "output_type": "display_data"
    },
    {
     "name": "stdout",
     "output_type": "stream",
     "text": [
      "Removed no burn in\n"
     ]
    },
    {
     "name": "stderr",
     "output_type": "stream",
     "text": [
      "/home/chri3448/EPDF_ABC/gc_jobs/../astroLFI/LFI_galactic_center.py:720: RuntimeWarning: invalid value encountered in divide\n",
      "  x_pdf = np.sum(pdf, axis = 1)/np.sum(pdf)\n",
      "/home/chri3448/EPDF_ABC/gc_jobs/../astroLFI/LFI_galactic_center.py:724: RuntimeWarning: invalid value encountered in divide\n",
      "  y_cdfs = np.cumsum(pdf, axis = 1)/np.tile(np.sum(pdf, axis = 1), (np.size(pdf[0,:]),1)).T\n"
     ]
    },
    {
     "data": {
      "application/vnd.jupyter.widget-view+json": {
       "model_id": "e1eda171fa1c443e92390ec61417a467",
       "version_major": 2,
       "version_minor": 0
      },
      "text/plain": [
       "Drawing 10000 posterior samples:   0%|          | 0/10000 [00:00<?, ?it/s]"
      ]
     },
     "metadata": {},
     "output_type": "display_data"
    },
    {
     "name": "stdout",
     "output_type": "stream",
     "text": [
      "Removed no burn in\n"
     ]
    },
    {
     "name": "stderr",
     "output_type": "stream",
     "text": [
      "/home/chri3448/EPDF_ABC/gc_jobs/../astroLFI/LFI_galactic_center.py:720: RuntimeWarning: invalid value encountered in divide\n",
      "  x_pdf = np.sum(pdf, axis = 1)/np.sum(pdf)\n",
      "/home/chri3448/EPDF_ABC/gc_jobs/../astroLFI/LFI_galactic_center.py:724: RuntimeWarning: invalid value encountered in divide\n",
      "  y_cdfs = np.cumsum(pdf, axis = 1)/np.tile(np.sum(pdf, axis = 1), (np.size(pdf[0,:]),1)).T\n"
     ]
    },
    {
     "data": {
      "application/vnd.jupyter.widget-view+json": {
       "model_id": "cbc2a563cc434098876fe9ef9f79073f",
       "version_major": 2,
       "version_minor": 0
      },
      "text/plain": [
       "Drawing 10000 posterior samples:   0%|          | 0/10000 [00:00<?, ?it/s]"
      ]
     },
     "metadata": {},
     "output_type": "display_data"
    },
    {
     "name": "stdout",
     "output_type": "stream",
     "text": [
      "Removed no burn in\n"
     ]
    },
    {
     "data": {
      "image/png": "[encoded data removed]",
      "text/plain": [
       "<Figure size 400x400 with 3 Axes>"
      ]
     },
     "metadata": {},
     "output_type": "display_data"
    }
   ],
   "source": [
    "#networks = ['run9l_poisson/100000sims', 'run9q_poisson/100000sims', 'run9m_poisson/100000sims', 'run9n_poisson/100000sims', 'run9o_poisson/100000sims']\n",
    "networks = ['run9l_nonpoisson/100000sims', 'run9q_nonpoisson/100000sims', 'run9m_nonpoisson/100000sims', 'run9n_nonpoisson/100000sims', 'run9o_nonpoisson/100000sims']\n",
    "labels = ['Energy + Direction', 'Direction', 'Energy', 'Histogram \\nFixed DM&MSP Spectra', 'Normalixed Energy Histogram \\nFixed DM&MSP Spectra']\n",
    "num_overplots = 1\n",
    "include_network = [True, True, True, False, False]\n",
    "colors = ['g','r','b']\n",
    "\n",
    "A_core_conversion_fac = 14482.4\n",
    "sigmav_conversion_fac = 1e9\n",
    "new_parameter_range = [[A_core_conversion_fac*parameter_range[0][0], sigmav_conversion_fac*parameter_range[0][1]], [A_core_conversion_fac*parameter_range[1][0], parameter_range[1][1]*sigmav_conversion_fac*0.6]]\n",
    "new_parameter_names = [parameter_names[0], r'\\frac{\\langle\\sigma v\\rangle_0}{m_{\\chi}^2}\\left[ \\frac{cm^3}{(s)(GeV^{2})}\\times 10^{-29}\\right]']\n",
    "new_markers = [A_core_conversion_fac*input_params[0], sigmav_conversion_fac*input_params[1]]\n",
    "g = plots.get_subplot_plotter()\n",
    "#g.settings.title_limit = 1\n",
    "#g.settings.title_limit_fontsize = 16 # reference size for 3.5 inch subplot\n",
    "g.settings.axes_fontsize = 18\n",
    "g.settings.legend_fontsize = 11\n",
    "g.settings.legend_loc = 'upper right'\n",
    "g.settings.axes_labelsize = 15\n",
    "g.settings.norm_1d_density = True\n",
    "#g.settings.line_labels =False\n",
    "samps = []\n",
    "for ni, network in enumerate(networks):\n",
    "    if include_network[ni]:\n",
    "        for i in range(num_overplots):\n",
    "            posterior_file = 'posteriors/' + network\n",
    "            posterior = np.load(posterior_file + '.npy', allow_pickle=True)[()]\n",
    "            observation = simulators[ni](input_params)\n",
    "            #print(observation)\n",
    "            samples = posterior.sample((10000,), x=observation) #100000\n",
    "            #print(parameter )\n",
    "            #log_probability = posterior.log_prob(samples, x=observation)\n",
    "            ranges = dict(zip(['a','b'], np.array(new_parameter_range).T.reshape((np.array(new_parameter_range[0]).size,2))))\n",
    "            #label = network + f' data set {i+1}' \n",
    "            label = labels[ni]\n",
    "            modified_samps = samples.numpy()[:,:]\n",
    "            modified_samps[:,0] *= A_core_conversion_fac\n",
    "            modified_samps[:,1] *= sigmav_conversion_fac\n",
    "            samps.append(MCSamples(samples=modified_samps, names = ['a','b'], labels = new_parameter_names, label = label, ranges = ranges))\n",
    "g.triangle_plot(samps, filled=True, markers=new_markers, contour_args = {'alpha': .5}, param_limits=ranges, contour_colors = colors, norm_1d_density = True)"
   ]
  },
  {
   "cell_type": "code",
   "execution_count": 14,
   "id": "c38f3802",
   "metadata": {},
   "outputs": [],
   "source": [
    "g.export(file)\n",
    "#np.save(file[:-4], static_obs_photon_info, allow_pickle=True)"
   ]
  },
  {
   "cell_type": "code",
   "execution_count": null,
   "id": "874d04bb",
   "metadata": {},
   "outputs": [],
   "source": []
  },
  {
   "cell_type": "code",
   "execution_count": null,
   "id": "04676265",
   "metadata": {},
   "outputs": [],
   "source": []
  },
  {
   "cell_type": "code",
   "execution_count": null,
   "id": "856d673d",
   "metadata": {},
   "outputs": [],
   "source": []
  },
  {
   "cell_type": "code",
   "execution_count": null,
   "id": "507897e2",
   "metadata": {},
   "outputs": [],
   "source": []
  },
  {
   "cell_type": "code",
   "execution_count": null,
   "id": "1f2c1add",
   "metadata": {},
   "outputs": [],
   "source": []
  },
  {
   "cell_type": "code",
   "execution_count": null,
   "id": "d605ce9c",
   "metadata": {},
   "outputs": [],
   "source": []
  },
  {
   "cell_type": "code",
   "execution_count": null,
   "id": "27646f6e",
   "metadata": {},
   "outputs": [],
   "source": []
  },
  {
   "cell_type": "code",
   "execution_count": null,
   "id": "4d937ee1",
   "metadata": {},
   "outputs": [],
   "source": []
  },
  {
   "cell_type": "code",
   "execution_count": null,
   "id": "8d08dd2f",
   "metadata": {},
   "outputs": [],
   "source": []
  },
  {
   "cell_type": "code",
   "execution_count": null,
   "id": "6cdac623",
   "metadata": {},
   "outputs": [],
   "source": []
  },
  {
   "cell_type": "code",
   "execution_count": null,
   "id": "25a515bc",
   "metadata": {},
   "outputs": [],
   "source": []
  },
  {
   "cell_type": "code",
   "execution_count": null,
   "id": "22cffc34",
   "metadata": {},
   "outputs": [],
   "source": []
  },
  {
   "cell_type": "code",
   "execution_count": null,
   "id": "4f94691b",
   "metadata": {},
   "outputs": [],
   "source": []
  },
  {
   "cell_type": "code",
   "execution_count": null,
   "id": "aa6c506d",
   "metadata": {},
   "outputs": [],
   "source": []
  },
  {
   "cell_type": "code",
   "execution_count": null,
   "id": "37d97ca8",
   "metadata": {},
   "outputs": [],
   "source": []
  }
 ],
 "metadata": {
  "kernelspec": {
   "display_name": "Python 3 (ipykernel)",
   "language": "python",
   "name": "python3"
  },
  "language_info": {
   "codemirror_mode": {
    "name": "ipython",
    "version": 3
   },
   "file_extension": ".py",
   "mimetype": "text/x-python",
   "name": "python",
   "nbconvert_exporter": "python",
   "pygments_lexer": "ipython3",
   "version": "3.10.9"
  }
 },
 "nbformat": 4,
 "nbformat_minor": 5
}
