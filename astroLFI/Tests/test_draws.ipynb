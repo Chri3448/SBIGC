{
 "cells": [
  {
   "cell_type": "code",
   "execution_count": 90,
   "metadata": {},
   "outputs": [
    {
     "name": "stdout",
     "output_type": "stream",
     "text": [
      "Once deleted, variables cannot be recovered. Proceed (y/[n])? y\n"
     ]
    }
   ],
   "source": [
    "%reset\n",
    "\n",
    "import numpy as np\n",
    "from scipy.stats import poisson\n",
    "import pdb\n",
    "\n",
    "import matplotlib.pyplot as pl\n",
    "\n",
    "\n",
    "import time\n",
    "\n",
    "%matplotlib inline"
   ]
  },
  {
   "cell_type": "code",
   "execution_count": 91,
   "metadata": {},
   "outputs": [],
   "source": [
    "def draw_from_pdf(cc, Pc, Ndraws):\n",
    "    # draw random counts from P(c)\n",
    "    cdf = np.cumsum(Pc)\n",
    "    rands = np.random.rand(Ndraws)\n",
    "    # Draw Ndraws times from Pc\n",
    "    d_vec = np.searchsorted(cdf, rands)\n",
    "    #pdb.set_trace()\n",
    "    return d_vec"
   ]
  },
  {
   "cell_type": "code",
   "execution_count": 92,
   "metadata": {},
   "outputs": [],
   "source": [
    "mean_flux = 0.001 #mean flux\n",
    "N_sources_avg = 10000000  #number of sources above L_min\n"
   ]
  },
  {
   "cell_type": "code",
   "execution_count": 93,
   "metadata": {},
   "outputs": [],
   "source": [
    "# set up luminosity distribution array\n",
    "L_min = 1.0\n",
    "L_max = 1000.\n",
    "numL = 100\n",
    "L_arr = np.exp(np.linspace(np.log(L_min), np.log(L_max), num = numL))\n",
    "\n",
    "L_powerlaw = -2.\n",
    "\n",
    "P_of_L = L_arr**(L_powerlaw)\n",
    "P_of_L = P_of_L/np.sum(P_of_L)"
   ]
  },
  {
   "cell_type": "code",
   "execution_count": 94,
   "metadata": {},
   "outputs": [
    {
     "name": "stdout",
     "output_type": "stream",
     "text": [
      "t2-t1 =  0.8156352043151855\n"
     ]
    }
   ],
   "source": [
    "#Method 1: draw randomly from luminosity distribution to assign each source a luminosity\n",
    "# then draw Poisson random number to represent counts from each source\n",
    "\n",
    "t1 = time.time()\n",
    "\n",
    "#Draw number of sources\n",
    "N_sources = np.random.poisson(lam = N_sources_avg)\n",
    "\n",
    "#Draw luminosities\n",
    "L_allsources = L_arr[draw_from_pdf(L_arr, P_of_L, N_sources)]\n",
    "\n",
    "# draw a bunch of poisson random numbers representing photon counts from sources\n",
    "flux =  mean_flux*L_allsources\n",
    "counts = np.random.poisson(lam = flux, size = N_sources)\n",
    "\n",
    "t2 = time.time()\n",
    "\n",
    "print(\"t2-t1 = \", t2-t1)"
   ]
  },
  {
   "cell_type": "code",
   "execution_count": 95,
   "metadata": {},
   "outputs": [
    {
     "name": "stdout",
     "output_type": "stream",
     "text": [
      "t2 - t1 =  0.04592275619506836\n"
     ]
    }
   ],
   "source": [
    "#Method 2: \n",
    "# For each luminosity bin, figure out chances that a source has zero flux.  \n",
    "# Draw from binomial distribution to compute number of sources that have at least 1 photons\n",
    "# then draw from Poisson distribution that has been renormalized to only be non-zero for 1 or more photons\n",
    "\n",
    "# draw from binomial to get number of sources with 0 photons, then draw photon counts for remaining sources\n",
    "t1 = time.time()\n",
    "\n",
    "# Will store final counts\n",
    "counts_all = np.array([])\n",
    "\n",
    "#number of sources in each luminosity bin\n",
    "expected_num = P_of_L*N_sources_avg\n",
    "\n",
    "#draw number of sources for each luminosity bin\n",
    "N_sources_arr = np.random.poisson(lam = expected_num)\n",
    "\n",
    "#loop over luminosity bins\n",
    "for li in range(0, numL):\n",
    "    \n",
    "    flux_this_bin = mean_flux*L_arr[li] #really this will depend on distance, but we ignore this here\n",
    "    \n",
    "    # Calculate P(C) = Poisson probability for getting C counts\n",
    "    cc = np.arange(0,10)\n",
    "    pc = poisson.pmf(cc, flux_this_bin)\n",
    "    \n",
    "    # P(C), modifed to be zero when C = 0, and renormalized\n",
    "    pc_modified = np.copy(pc)\n",
    "    pc_modified[0] = 0.\n",
    "    pc_modified = pc_modified/np.sum(pc_modified)\n",
    "\n",
    "    # Number of sources that will have zero photons\n",
    "    N_zero = np.random.binomial(N_sources_arr[li], pc[0])\n",
    "    \n",
    "    # Number that will have more than zero photons\n",
    "    N_nonzero = N_sources_arr[li] - N_zero\n",
    "    \n",
    "    # Draw photon counts for all sources that have at least one photon\n",
    "    counts_nonzero = draw_from_pdf(cc, pc_modified, N_nonzero)\n",
    "\n",
    "    #Save all these counts\n",
    "    counts_all = np.append(counts_all, counts_nonzero)\n",
    "    \n",
    "t2 = time.time()\n",
    "print(\"t2 - t1 = \", t2-t1)\n",
    "\n"
   ]
  },
  {
   "cell_type": "code",
   "execution_count": 96,
   "metadata": {},
   "outputs": [
    {
     "data": {
      "text/plain": [
       "Text(0, 0.5, 'Number')"
      ]
     },
     "execution_count": 96,
     "metadata": {},
     "output_type": "execute_result"
    },
    {
     "data": {
      "image/png": "[encoded data removed]",
      "text/plain": [
       "<Figure size 432x288 with 1 Axes>"
      ]
     },
     "metadata": {
      "needs_background": "light"
     },
     "output_type": "display_data"
    }
   ],
   "source": [
    "fig, ax = pl.subplots(1,1)\n",
    "ax.hist(counts, label = 'direct', histtype = 'step', range = (0, 14), bins = 14)\n",
    "ax.hist(counts_all, label = 'binomial', histtype = 'step', ls = 'dashed', range = (0, 14), bins = 14)\n",
    "ax.legend()\n",
    "ax.set_yscale('log')\n",
    "ax.set_xlabel('Counts')\n",
    "ax.set_ylabel('Number')\n",
    "\n"
   ]
  },
  {
   "cell_type": "code",
   "execution_count": 119,
   "metadata": {},
   "outputs": [],
   "source": [
    "#method 1\n",
    "\n",
    "# for each radial bin\n",
    "\n",
    "# calculate Lmin such that expected flux is super tiny.  \n",
    "\n",
    "# calculate expected number of sources above Lmin\n",
    "\n",
    "# draw from luminosity distribution for each source\n",
    "\n",
    "# calculate flux for each source.  this requires multiplying energy-dependent exposure by spectrum for every source\n",
    "\n",
    "# draw from Poisson with mean flux for each source\n",
    "\n"
   ]
  },
  {
   "cell_type": "code",
   "execution_count": 86,
   "metadata": {},
   "outputs": [],
   "source": [
    "# method 2\n",
    "\n",
    "# for each radial bin\n",
    "\n",
    "# for each luminosity bin\n",
    "\n",
    "# draw expected number of sources\n",
    "\n",
    "# compute flux assuming maximal exposure.  compute P(0 photons), and draw from this binomial distribution.\n",
    "\n",
    "# draw from Poisson with mean flux, re-normalized after removing P(C = 0)\n",
    "\n",
    "# Once all photons have been draw, remove some with probability related to exposure\n",
    "\n"
   ]
  },
  {
   "cell_type": "code",
   "execution_count": null,
   "metadata": {},
   "outputs": [],
   "source": []
  }
 ],
 "metadata": {
  "kernelspec": {
   "display_name": "Python 3 (ipykernel)",
   "language": "python",
   "name": "python3"
  },
  "language_info": {
   "codemirror_mode": {
    "name": "ipython",
    "version": 3
   },
   "file_extension": ".py",
   "mimetype": "text/x-python",
   "name": "python",
   "nbconvert_exporter": "python",
   "pygments_lexer": "ipython3",
   "version": "3.10.9"
  }
 },
 "nbformat": 4,
 "nbformat_minor": 4
}
